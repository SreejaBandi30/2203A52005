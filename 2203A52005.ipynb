{
  "nbformat": 4,
  "nbformat_minor": 0,
  "metadata": {
    "colab": {
      "provenance": [],
      "authorship_tag": "ABX9TyO920RPTLDtRrfpoRbzr/FI",
      "include_colab_link": true
    },
    "kernelspec": {
      "name": "python3",
      "display_name": "Python 3"
    },
    "language_info": {
      "name": "python"
    }
  },
  "cells": [
    {
      "cell_type": "markdown",
      "metadata": {
        "id": "view-in-github",
        "colab_type": "text"
      },
      "source": [
        "<a href=\"https://colab.research.google.com/github/SreejaBandi30/2203A52005/blob/main/2203A52005.ipynb\" target=\"_parent\"><img src=\"https://colab.research.google.com/assets/colab-badge.svg\" alt=\"Open In Colab\"/></a>"
      ]
    },
    {
      "cell_type": "code",
      "source": [
        "# List\n",
        "list1=[1,2,3,4,5]\n",
        "list2=[6,7,8,9,10]\n",
        "print(list1)\n",
        "print(list2)"
      ],
      "metadata": {
        "colab": {
          "base_uri": "https://localhost:8080/"
        },
        "id": "FS9zDUQfIV8G",
        "outputId": "1c222e0c-bab1-4efd-a11a-aaf485903860"
      },
      "execution_count": 11,
      "outputs": [
        {
          "output_type": "stream",
          "name": "stdout",
          "text": [
            "[1, 2, 3, 4, 5]\n",
            "[6, 7, 8, 9, 10]\n"
          ]
        }
      ]
    },
    {
      "cell_type": "code",
      "source": [
        "import numpy as np\n",
        "import pandas as pd"
      ],
      "metadata": {
        "id": "thxcc_wyIbo1"
      },
      "execution_count": 12,
      "outputs": []
    },
    {
      "cell_type": "code",
      "source": [
        "#array\n",
        "array1 = np.array(list1)\n",
        "array2 = np.array(list2)"
      ],
      "metadata": {
        "id": "LO7Xlr7-JQgf"
      },
      "execution_count": 13,
      "outputs": []
    },
    {
      "cell_type": "code",
      "source": [
        "#Type Identification\n",
        "print(type(list1))\n",
        "print(type(array1))"
      ],
      "metadata": {
        "colab": {
          "base_uri": "https://localhost:8080/"
        },
        "id": "1XSIAwkmJnYV",
        "outputId": "3326805f-2460-4e8f-dfa0-d112f468542d"
      },
      "execution_count": 21,
      "outputs": [
        {
          "output_type": "stream",
          "name": "stdout",
          "text": [
            "<class 'list'>\n",
            "<class 'numpy.ndarray'>\n"
          ]
        }
      ]
    },
    {
      "cell_type": "code",
      "source": [
        "#Mathematical Operations\n",
        "multiply=array1*array2\n",
        "divide=array2/array1\n",
        "poweroff=np.power(array1,array2)\n",
        "print(\"Multiplication:\",multiply)\n",
        "print(\"Division:\",divide)\n",
        "print(\"Poweroff:\",poweroff)"
      ],
      "metadata": {
        "colab": {
          "base_uri": "https://localhost:8080/"
        },
        "id": "Hd0TaWekKG3U",
        "outputId": "f5acbe7a-229c-48ec-dceb-ec614fd391c3"
      },
      "execution_count": 22,
      "outputs": [
        {
          "output_type": "stream",
          "name": "stdout",
          "text": [
            "Multiplication: [ 6 14 24 36 50]\n",
            "Division: [6.         3.5        2.66666667 2.25       2.        ]\n",
            "Poweroff: [      1     128    6561  262144 9765625]\n"
          ]
        }
      ]
    },
    {
      "cell_type": "code",
      "source": [
        "#Combine Text with NumPy Function\n",
        "print(np.array(list1 + list2))"
      ],
      "metadata": {
        "colab": {
          "base_uri": "https://localhost:8080/"
        },
        "id": "IA8v6wNMMln_",
        "outputId": "7a34c561-4702-4332-9cd1-15338c05c0f9"
      },
      "execution_count": 18,
      "outputs": [
        {
          "output_type": "stream",
          "name": "stdout",
          "text": [
            "[ 1  2  3  4  5  6  7  8  9 10]\n"
          ]
        }
      ]
    },
    {
      "cell_type": "code",
      "source": [
        "#Trigonometric and Exponential Functions\n",
        "print(np.sin(array1))\n",
        "print(np.log(array2))\n",
        "print(np.log2(array1))\n",
        "print(np.exp(array2))"
      ],
      "metadata": {
        "colab": {
          "base_uri": "https://localhost:8080/"
        },
        "id": "jLojeeQENujv",
        "outputId": "891fbd44-507a-428c-a1a1-25174f0218b5"
      },
      "execution_count": 20,
      "outputs": [
        {
          "output_type": "stream",
          "name": "stdout",
          "text": [
            "[ 0.84147098  0.90929743  0.14112001 -0.7568025  -0.95892427]\n",
            "[1.79175947 1.94591015 2.07944154 2.19722458 2.30258509]\n",
            "[0.         1.         1.5849625  2.         2.32192809]\n",
            "[  403.42879349  1096.63315843  2980.95798704  8103.08392758\n",
            " 22026.46579481]\n"
          ]
        }
      ]
    },
    {
      "cell_type": "code",
      "source": [
        "people = ['kiran', 'arun', 'vijay', 'varun']\n",
        "age =[25,30,35,40]\n",
        "height =[145,151,165,173]\n",
        "weight=[45,55,65,75]"
      ],
      "metadata": {
        "id": "wXkCgvNCRf7H"
      },
      "execution_count": 28,
      "outputs": []
    },
    {
      "cell_type": "code",
      "source": [
        "import matplotlib.pyplot as plt"
      ],
      "metadata": {
        "id": "LKnD1UhySPpJ"
      },
      "execution_count": 27,
      "outputs": []
    },
    {
      "cell_type": "code",
      "source": [
        "# Scatter plot\n",
        "plt.scatter(age,height,color='purple',alpha=0.8)\n",
        "plt.title('Scatter Plot')\n",
        "plt.xlabel('age')\n",
        "plt.ylabel('height')"
      ],
      "metadata": {
        "colab": {
          "base_uri": "https://localhost:8080/",
          "height": 489
        },
        "id": "fhpBsxKxS0QG",
        "outputId": "2ebf0a87-56a6-4410-806f-9ab21f5c9ede"
      },
      "execution_count": 42,
      "outputs": [
        {
          "output_type": "execute_result",
          "data": {
            "text/plain": [
              "Text(0, 0.5, 'height')"
            ]
          },
          "metadata": {},
          "execution_count": 42
        },
        {
          "output_type": "display_data",
          "data": {
            "text/plain": [
              "<Figure size 640x480 with 1 Axes>"
            ],
            "image/png": "[encoded data removed]"
          },
          "metadata": {}
        }
      ]
    },
    {
      "cell_type": "code",
      "source": [
        "plt.bar(people,weight)\n",
        "plt.title('Bar Chart')\n",
        "plt.xlabel('people')\n",
        "plt.ylabel('weight')"
      ],
      "metadata": {
        "colab": {
          "base_uri": "https://localhost:8080/",
          "height": 489
        },
        "id": "p8Zw-VvOVIGB",
        "outputId": "5235401c-f9c5-4829-9ffc-af33341d821f"
      },
      "execution_count": 44,
      "outputs": [
        {
          "output_type": "execute_result",
          "data": {
            "text/plain": [
              "Text(0, 0.5, 'weight')"
            ]
          },
          "metadata": {},
          "execution_count": 44
        },
        {
          "output_type": "display_data",
          "data": {
            "text/plain": [
              "<Figure size 640x480 with 1 Axes>"
            ],
            "image/png": "[encoded data removed]"
          },
          "metadata": {}
        }
      ]
    },
    {
      "cell_type": "code",
      "source": [
        "plt.hist(age,color='pink')\n",
        "plt.title('Histogram')\n",
        "plt.xlabel('age')"
      ],
      "metadata": {
        "colab": {
          "base_uri": "https://localhost:8080/",
          "height": 489
        },
        "id": "Pbs_Eb4XVVZT",
        "outputId": "57a64317-effc-4fcc-bf4b-733bf5870695"
      },
      "execution_count": 45,
      "outputs": [
        {
          "output_type": "execute_result",
          "data": {
            "text/plain": [
              "Text(0.5, 0, 'age')"
            ]
          },
          "metadata": {},
          "execution_count": 45
        },
        {
          "output_type": "display_data",
          "data": {
            "text/plain": [
              "<Figure size 640x480 with 1 Axes>"
            ],
            "image/png": "[encoded data removed]"
          },
          "metadata": {}
        }
      ]
    },
    {
      "cell_type": "code",
      "source": [
        "name=['arun','sita','siri','ram','ravi']\n",
        "gender=['m','f','f','m','m']\n",
        "age=[30,32,40,42,50]\n",
        "occupation=['teacher','doctor','clerk','cleaner','manager']"
      ],
      "metadata": {
        "id": "qBM0IaeNXn7P"
      },
      "execution_count": 46,
      "outputs": []
    }
  ]
}